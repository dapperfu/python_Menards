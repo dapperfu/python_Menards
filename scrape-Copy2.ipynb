{
 "cells": [
  {
   "cell_type": "code",
   "execution_count": 1,
   "metadata": {},
   "outputs": [],
   "source": [
    "import os\n",
    "import uuid\n",
    "\n",
    "import notebookcleaner\n",
    "import selenium\n",
    "from cached_property import cached_property\n",
    "from selenium import webdriver\n",
    "from selenium.common.exceptions import (ElementClickInterceptedException,\n",
    "                                        ElementNotInteractableException,\n",
    "                                        ElementNotVisibleException,\n",
    "                                        NoSuchElementException)\n",
    "from selenium.webdriver.common.keys import Keys"
   ]
  },
  {
   "cell_type": "code",
   "execution_count": 2,
   "metadata": {},
   "outputs": [],
   "source": [
    "def env_append_path(env_var, path):\n",
    "    newpath = os.path.abspath(os.curdir)\n",
    "    envvar = \"PATH\"\n",
    "    paths = os.environ[envvar].split(os.pathsep)\n",
    "    if newpath not in paths:\n",
    "        paths.append(newpath)\n",
    "    os.environ[envvar] = os.pathsep.join(paths)"
   ]
  },
  {
   "cell_type": "code",
   "execution_count": 3,
   "metadata": {},
   "outputs": [],
   "source": [
    "env_append_path(\"PATH\", os.path.abspath(os.curdir))"
   ]
  },
  {
   "cell_type": "code",
   "execution_count": 4,
   "metadata": {},
   "outputs": [],
   "source": [
    "import urllib"
   ]
  },
  {
   "cell_type": "code",
   "execution_count": 6,
   "metadata": {},
   "outputs": [],
   "source": [
    "class MenardsSearch(object):\n",
    "    def __init__(self, **kwargs):\n",
    "        for key, value in kwargs.items():\n",
    "            setattr(self, key, value)\n",
    "            \n",
    "    @cached_property\n",
    "    def driver(self):\n",
    "        \"\"\"\n",
    "        opts = webdriver.ChromeOptions()\n",
    "        opts.add_argument(\"user-data-dir=\"+tempfile.mkdtemp());\n",
    "        proxy= \"proxy-server=socks5://127.0.0.1:{}\".format(self.proxy_port)\n",
    "        useragent= \"user-agent=\"+fake.user_agent()\n",
    "        print(proxy)\n",
    "        print(useragent)\n",
    "        opts.add_argument(proxy)\n",
    "        opts.add_argument(useragent)\n",
    "        driver = webdriver.Chrome(options=opts)\n",
    "        # Set wait time to 5s to allow network time.\n",
    "        driver.implicitly_wait(2)\"\"\"\n",
    "\n",
    "        profile = webdriver.FirefoxProfile()\n",
    "        \"\"\"profile.set_preference(\"network.proxy.type\", 1)\n",
    "        profile.set_preference(\"network.proxy.socks\", \"127.0.0.1\")\n",
    "        profile.set_preference(\"network.proxy.socks_port\", self.proxy_port)\n",
    "        profile.set_preference(\"network.proxy.socks_version\", 5)\"\"\"\n",
    "        profile.update_preferences()\n",
    "        driver = webdriver.Firefox(firefox_profile=profile)\n",
    "        return driver\n",
    "        \n",
    "    def search(self, item=\"Hitachi 18V\", ipp=128):\n",
    "        q = urllib.urlencode({\"search\": item, \"ipp\": ipp})\n",
    "        search_string = \"https://www.menards.com/main/search.html?{}\".format(q)\n",
    "        self.driver.get(search_string)"
   ]
  },
  {
   "cell_type": "code",
   "execution_count": 7,
   "metadata": {},
   "outputs": [],
   "source": [
    "m = MenardsSearch()"
   ]
  },
  {
   "cell_type": "code",
   "execution_count": 8,
   "metadata": {},
   "outputs": [
    {
     "data": {
      "text/plain": [
       "<selenium.webdriver.firefox.webdriver.WebDriver (session=\"f65faf28-8fdf-4d54-aead-c309ac9a58c4\")>"
      ]
     },
     "execution_count": 8,
     "metadata": {},
     "output_type": "execute_result"
    }
   ],
   "source": [
    "m.driver"
   ]
  },
  {
   "cell_type": "code",
   "execution_count": 9,
   "metadata": {},
   "outputs": [],
   "source": [
    "m.search()"
   ]
  },
  {
   "cell_type": "code",
   "execution_count": 15,
   "metadata": {},
   "outputs": [],
   "source": [
    "d = m.driver\n",
    "driver = m.driver"
   ]
  },
  {
   "cell_type": "code",
   "execution_count": 14,
   "metadata": {},
   "outputs": [],
   "source": [
    "d.get(\"https://www.menards.com/main/p-1444432953171-c-14196.htm?isQubitRecommendationsAvailableContentDescription=false\")"
   ]
  },
  {
   "cell_type": "code",
   "execution_count": 16,
   "metadata": {},
   "outputs": [],
   "source": [
    "by_id = driver.find_element_by_id\n",
    "by_name = driver.find_element_by_name\n",
    "by_class_name = driver.find_elements_by_class_name"
   ]
  },
  {
   "cell_type": "code",
   "execution_count": 18,
   "metadata": {},
   "outputs": [
    {
     "data": {
      "text/plain": [
       "<selenium.webdriver.firefox.webelement.FirefoxWebElement (session=\"f65faf28-8fdf-4d54-aead-c309ac9a58c4\", element=\"3426183f-7b22-4517-8bce-4d781e079a97\")>"
      ]
     },
     "execution_count": 18,
     "metadata": {},
     "output_type": "execute_result"
    }
   ],
   "source": [
    "by_id(\"price-div\")"
   ]
  },
  {
   "cell_type": "code",
   "execution_count": 19,
   "metadata": {},
   "outputs": [],
   "source": [
    "price = by_id(\"price-div\")"
   ]
  },
  {
   "cell_type": "code",
   "execution_count": 20,
   "metadata": {},
   "outputs": [
    {
     "data": {
      "text/plain": [
       "<selenium.webdriver.firefox.webelement.FirefoxWebElement (session=\"f65faf28-8fdf-4d54-aead-c309ac9a58c4\", element=\"e2d02303-414c-412c-af76-1f3f43318113\")>"
      ]
     },
     "execution_count": 20,
     "metadata": {},
     "output_type": "execute_result"
    }
   ],
   "source": [
    "price.find_element_by_class_name(\"detailRebateMath\")"
   ]
  },
  {
   "cell_type": "code",
   "execution_count": null,
   "metadata": {},
   "outputs": [],
   "source": []
  }
 ],
 "metadata": {
  "kernelspec": {
   "display_name": "Python 3",
   "language": "python",
   "name": "python3"
  },
  "language_info": {
   "codemirror_mode": {
    "name": "ipython",
    "version": 3
   },
   "file_extension": ".py",
   "mimetype": "text/x-python",
   "name": "python",
   "nbconvert_exporter": "python",
   "pygments_lexer": "ipython3",
   "version": "3.6.5"
  }
 },
 "nbformat": 4,
 "nbformat_minor": 2
}
