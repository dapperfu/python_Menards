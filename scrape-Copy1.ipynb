{
 "cells": [
  {
   "cell_type": "code",
   "execution_count": 39,
   "metadata": {},
   "outputs": [],
   "source": [
    "import os\n",
    "import uuid\n",
    "\n",
    "import notebookcleaner\n",
    "import selenium\n",
    "from cached_property import cached_property\n",
    "from selenium import webdriver\n",
    "from selenium.common.exceptions import (ElementClickInterceptedException,\n",
    "                                        ElementNotInteractableException,\n",
    "                                        ElementNotVisibleException,\n",
    "                                        NoSuchElementException)\n",
    "from selenium.webdriver.common.keys import Keys"
   ]
  },
  {
   "cell_type": "code",
   "execution_count": 40,
   "metadata": {},
   "outputs": [],
   "source": [
    "def env_append_path(env_var, path):\n",
    "    newpath = os.path.abspath(os.curdir)\n",
    "    envvar = \"PATH\"\n",
    "    paths = os.environ[envvar].split(os.pathsep)\n",
    "    if newpath not in paths:\n",
    "        paths.append(newpath)\n",
    "    os.environ[envvar] = os.pathsep.join(paths)"
   ]
  },
  {
   "cell_type": "code",
   "execution_count": 41,
   "metadata": {},
   "outputs": [],
   "source": [
    "env_append_path(\"PATH\", os.path.abspath(os.curdir))"
   ]
  },
  {
   "cell_type": "code",
   "execution_count": 42,
   "metadata": {},
   "outputs": [],
   "source": [
    "import urllib"
   ]
  },
  {
   "cell_type": "code",
   "execution_count": 43,
   "metadata": {},
   "outputs": [],
   "source": [
    "class MenardsSearch(object):\n",
    "    def __init__(self, **kwargs):\n",
    "        for key, value in kwargs.items():\n",
    "            setattr(self, key, value)\n",
    "            \n",
    "    @cached_property\n",
    "    def driver(self):\n",
    "        \"\"\"\n",
    "        opts = webdriver.ChromeOptions()\n",
    "        opts.add_argument(\"user-data-dir=\"+tempfile.mkdtemp());\n",
    "        proxy= \"proxy-server=socks5://127.0.0.1:{}\".format(self.proxy_port)\n",
    "        useragent= \"user-agent=\"+fake.user_agent()\n",
    "        print(proxy)\n",
    "        print(useragent)\n",
    "        opts.add_argument(proxy)\n",
    "        opts.add_argument(useragent)\n",
    "        driver = webdriver.Chrome(options=opts)\n",
    "        # Set wait time to 5s to allow network time.\n",
    "        driver.implicitly_wait(2)\"\"\"\n",
    "\n",
    "        profile = webdriver.FirefoxProfile()\n",
    "        \"\"\"profile.set_preference(\"network.proxy.type\", 1)\n",
    "        profile.set_preference(\"network.proxy.socks\", \"127.0.0.1\")\n",
    "        profile.set_preference(\"network.proxy.socks_port\", self.proxy_port)\n",
    "        profile.set_preference(\"network.proxy.socks_version\", 5)\"\"\"\n",
    "        profile.update_preferences()\n",
    "        driver = webdriver.Firefox(firefox_profile=profile)\n",
    "        return driver\n",
    "        \n",
    "    def search(self, item=\"Hitachi 18V\", ipp=128):\n",
    "        q = urllib.urlencode({\"item\": item, \"ipp\": ipp})\n",
    "        search_string = \"https://www.menards.com/main/search.html?{}\".format(q)\n",
    "        self.driver.get(search_string)"
   ]
  },
  {
   "cell_type": "code",
   "execution_count": 44,
   "metadata": {},
   "outputs": [],
   "source": [
    "m = MenardsSearch()"
   ]
  },
  {
   "cell_type": "code",
   "execution_count": 45,
   "metadata": {},
   "outputs": [
    {
     "data": {
      "text/plain": [
       "<selenium.webdriver.firefox.webdriver.WebDriver (session=\"ca10589a-0cf7-4c5b-84ba-b7d15e814409\")>"
      ]
     },
     "execution_count": 45,
     "metadata": {},
     "output_type": "execute_result"
    }
   ],
   "source": [
    "m.driver"
   ]
  },
  {
   "cell_type": "code",
   "execution_count": 46,
   "metadata": {},
   "outputs": [],
   "source": [
    "m.search()"
   ]
  },
  {
   "cell_type": "code",
   "execution_count": 38,
   "metadata": {},
   "outputs": [],
   "source": [
    "m.driver"
   ]
  },
  {
   "cell_type": "code",
   "execution_count": 32,
   "metadata": {},
   "outputs": [],
   "source": [
    "item=\"Hitachi 18V\"\n",
    "ipp=128"
   ]
  },
  {
   "cell_type": "code",
   "execution_count": 33,
   "metadata": {},
   "outputs": [
    {
     "data": {
      "text/plain": [
       "'item=Hitachi+18V&ipp=128'"
      ]
     },
     "execution_count": 33,
     "metadata": {},
     "output_type": "execute_result"
    }
   ],
   "source": [
    "item_ = urllib.urlencode({\"item\": item, \"ipp\": ipp})\n",
    "item_"
   ]
  },
  {
   "cell_type": "code",
   "execution_count": 27,
   "metadata": {},
   "outputs": [
    {
     "data": {
      "text/plain": [
       "'Hitachi%2018V'"
      ]
     },
     "execution_count": 27,
     "metadata": {},
     "output_type": "execute_result"
    }
   ],
   "source": [
    "urllib.quote(\"Hitachi 18V\")"
   ]
  },
  {
   "cell_type": "code",
   "execution_count": 29,
   "metadata": {},
   "outputs": [],
   "source": [
    "m.driver"
   ]
  },
  {
   "cell_type": "code",
   "execution_count": 30,
   "metadata": {},
   "outputs": [],
   "source": [
    "urllib.urlencode()"
   ]
  },
  {
   "cell_type": "code",
   "execution_count": 48,
   "metadata": {},
   "outputs": [
    {
     "data": {
      "text/plain": [
       "'item=Hitachi+18V&ipp=128'"
      ]
     },
     "execution_count": 48,
     "metadata": {},
     "output_type": "execute_result"
    }
   ],
   "source": [
    "q = urllib.urlencode({\"item\": item, \"ipp\": ipp})\n",
    "search_string = \"https://www.menards.com/main/search.html?{}\".format(q)\n",
    "q"
   ]
  },
  {
   "cell_type": "code",
   "execution_count": 49,
   "metadata": {},
   "outputs": [
    {
     "data": {
      "text/plain": [
       "'https://www.menards.com/main/search.html?item=Hitachi+18V&ipp=128'"
      ]
     },
     "execution_count": 49,
     "metadata": {},
     "output_type": "execute_result"
    }
   ],
   "source": [
    "search_string"
   ]
  },
  {
   "cell_type": "code",
   "execution_count": null,
   "metadata": {},
   "outputs": [],
   "source": [
    "m.driver.get()"
   ]
  }
 ],
 "metadata": {
  "kernelspec": {
   "display_name": "Python 3",
   "language": "python",
   "name": "python3"
  },
  "language_info": {
   "codemirror_mode": {
    "name": "ipython",
    "version": 3
   },
   "file_extension": ".py",
   "mimetype": "text/x-python",
   "name": "python",
   "nbconvert_exporter": "python",
   "pygments_lexer": "ipython3",
   "version": "3.6.5"
  }
 },
 "nbformat": 4,
 "nbformat_minor": 2
}
